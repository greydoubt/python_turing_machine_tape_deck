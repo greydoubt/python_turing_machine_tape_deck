{
 "cells": [
  {
   "cell_type": "code",
   "execution_count": 1,
   "metadata": {},
   "outputs": [],
   "source": [
    "class TuringMachine:\n",
    "    def __init__(self, states, alphabet, transitions, initial_state, final_states):\n",
    "        self.states = states\n",
    "        self.alphabet = alphabet\n",
    "        self.transitions = transitions\n",
    "        self.current_state = initial_state\n",
    "        self.final_states = final_states\n",
    "        self.tape = []\n",
    "        self.head_position = 0\n",
    "        self.steps = []\n",
    "\n",
    "    def load_tape(self, input_string):\n",
    "        self.tape = list(input_string)\n",
    "\n",
    "    def step(self):\n",
    "        current_symbol = self.tape[self.head_position]\n",
    "        if (self.current_state, current_symbol) not in self.transitions:\n",
    "            return False  # Invalid transition, halt execution\n",
    "\n",
    "        next_state, new_symbol, move_direction = self.transitions[(self.current_state, current_symbol)]\n",
    "        self.tape[self.head_position] = new_symbol\n",
    "        self.current_state = next_state\n",
    "        self.steps.append((self.current_state, ''.join(self.tape)))\n",
    "\n",
    "        if move_direction == 'L':\n",
    "            self.head_position -= 1\n",
    "            if self.head_position < 0:\n",
    "                self.tape.insert(0, '_')\n",
    "                self.head_position = 0\n",
    "        elif move_direction == 'R':\n",
    "            self.head_position += 1\n",
    "            if self.head_position >= len(self.tape):\n",
    "                self.tape.append('_')\n",
    "\n",
    "        return True\n",
    "\n",
    "    def run(self):\n",
    "        self.steps.append((self.current_state, ''.join(self.tape)))\n",
    "        while self.current_state not in self.final_states:\n",
    "            if not self.step():\n",
    "                break\n"
   ]
  },
  {
   "cell_type": "code",
   "execution_count": null,
   "metadata": {},
   "outputs": [],
   "source": [
    "import json\n",
    "\n",
    "#class TuringMachine:\n",
    "    # ... previous code ...\n",
    "\n",
    "def load_turing_machine_from_json(file_path):\n",
    "    with open(file_path, 'r') as json_file:\n",
    "        data = json.load(json_file)\n",
    "        states = data['states']\n",
    "        alphabet = data['alphabet']\n",
    "        transitions = data['transitions']\n",
    "        initial_state = data['initial_state']\n",
    "        final_states = data['final_states']\n",
    "        return TuringMachine(states, alphabet, transitions, initial_state, final_states)\n",
    "\n",
    "# Load Turing machine from a JSON file\n",
    "tm = load_turing_machine_from_json('addition_tm.json')\n",
    "\n",
    "# Load input string onto the tape\n",
    "tm.load_tape('110+101')\n",
    "\n",
    "# Run the Turing machine\n",
    "tm.run()\n",
    "\n",
    "# Print all the steps taken\n",
    "for step in tm.steps:\n",
    "    print(step)\n"
   ]
  }
 ],
 "metadata": {
  "kernelspec": {
   "display_name": "Python 3",
   "language": "python",
   "name": "python3"
  },
  "language_info": {
   "codemirror_mode": {
    "name": "ipython",
    "version": 3
   },
   "file_extension": ".py",
   "mimetype": "text/x-python",
   "name": "python",
   "nbconvert_exporter": "python",
   "pygments_lexer": "ipython3",
   "version": "3.8.2"
  }
 },
 "nbformat": 4,
 "nbformat_minor": 4
}
